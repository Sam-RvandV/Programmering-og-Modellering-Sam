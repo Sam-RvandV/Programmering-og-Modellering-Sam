{
 "cells": [
  {
   "cell_type": "markdown",
   "metadata": {},
   "source": [
    "# Nummerisk matematikk og algoritmer\n",
    "\n",
    "### Definisjon: Nummerisk matematikk er en del av matematikken som handler om å lage algoritmer for tilnærme matematiske problemer med minst mulig feil\n",
    "\n",
    "### Hva skal vi lære\n",
    "* derivasjon (og integrasjon)\n",
    "* løsning av likninger\n",
    "* løsning av differensiallikninger\n",
    "\n",
    "## Algoritme\n",
    "\n",
    "### En algoritme er en presis beskrivelse av en serie operasjoner som skal utføres for å oppnå et visst resultat\n",
    "\n"
   ]
  },
  {
   "cell_type": "code",
   "execution_count": null,
   "metadata": {},
   "outputs": [],
   "source": []
  }
 ],
 "metadata": {
  "kernelspec": {
   "display_name": "Python 3",
   "language": "python",
   "name": "python3"
  },
  "language_info": {
   "codemirror_mode": {
    "name": "ipython",
    "version": 3
   },
   "file_extension": ".py",
   "mimetype": "text/x-python",
   "name": "python",
   "nbconvert_exporter": "python",
   "pygments_lexer": "ipython3",
   "version": "3.7.5"
  }
 },
 "nbformat": 4,
 "nbformat_minor": 2
}
