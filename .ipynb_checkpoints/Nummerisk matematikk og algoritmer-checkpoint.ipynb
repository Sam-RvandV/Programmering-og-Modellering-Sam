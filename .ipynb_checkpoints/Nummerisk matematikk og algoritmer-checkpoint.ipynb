{
 "cells": [
  {
   "cell_type": "markdown",
   "metadata": {},
   "source": [
    "# Nummerisk matematikk og algoritmer\n",
    "\n",
    "### Definisjon: Nummerisk matematikk er en del av matematikken som handler om å lage algoritmer for tilnærme matematiske problemer med minst mulig feil\n",
    "\n",
    "### Hva skal vi lære\n",
    "* derivasjon (og integrasjon)\n",
    "* løsning av likninger\n",
    "* løsning av differensiallikninger\n",
    "\n",
    "## Algoritme\n",
    "\n",
    "### En algoritme er en presis beskrivelse av en serie operasjoner som skal utføres for å oppnå et visst resultat\n",
    "\n"
   ]
  },
  {
   "cell_type": "markdown",
   "metadata": {},
   "source": [
    "## Eratothenes sil"
   ]
  },
  {
   "cell_type": "code",
   "execution_count": 4,
   "metadata": {
    "scrolled": true
   },
   "outputs": [
    {
     "name": "stdout",
     "output_type": "stream",
     "text": [
      "9592 65\n"
     ]
    }
   ],
   "source": [
    "from pylab import *\n",
    "\n",
    "n = 100000\n",
    "liste = linspace(2, n ,n-1)\n",
    "p = 2\n",
    "c = 0\n",
    "newlist = []\n",
    "primenumbers = [2]\n",
    "\n",
    "for j in liste:\n",
    "    for i in liste:\n",
    "        if i%p != 0:\n",
    "            newlist.append(i)\n",
    "    p = newlist[0]\n",
    "    primenumbers.append(p)\n",
    "    liste = newlist\n",
    "    newlist = []\n",
    "    c += 1\n",
    "    if p**2 > n:\n",
    "        liste.pop(0)\n",
    "        primenumbers += liste\n",
    "        break\n",
    "    \n",
    "print(len(primenumbers), c)"
   ]
  },
  {
   "cell_type": "markdown",
   "metadata": {},
   "source": [
    "## Kvadratrot algoritme fra babylon\n"
   ]
  },
  {
   "cell_type": "code",
   "execution_count": 2,
   "metadata": {},
   "outputs": [
    {
     "name": "stdout",
     "output_type": "stream",
     "text": [
      "hva vil du ta roten av? 9\n",
      "nummerisk: 3.0 analytisk: 3.0\n"
     ]
    }
   ],
   "source": [
    "from math import sqrt\n",
    "\n",
    "\n",
    "def kvadratrot(a,x0,N):\n",
    "    \"\"\"\n",
    "    a: det du skal ta rota av\n",
    "    x0: Startgjett\n",
    "    N: antall iterasjoner\n",
    "    \"\"\"\n",
    "    x = x0\n",
    "    for i in range(N):\n",
    "        x = 0.5*(x+a/x)\n",
    "    return x\n",
    "\n",
    "R = float(input('hva vil du ta roten av? '))\n",
    "rot = kvadratrot(R,100,10)\n",
    "\n",
    "    \n",
    "print('nummerisk:', rot, 'analytisk:', sqrt(R))\n"
   ]
  },
  {
   "cell_type": "markdown",
   "metadata": {},
   "source": [
    "## Primtal bilde med bruk av Eratothenes sil"
   ]
  },
  {
   "cell_type": "code",
   "execution_count": null,
   "metadata": {},
   "outputs": [],
   "source": [
    "from PIL import Image\n",
    "import numpy as np\n",
    "from pylab import linspace\n",
    "\n",
    "x = 0\n",
    "y = 0\n",
    "w, h = 1000, 1000\n",
    "n = w*h\n",
    "liste = linspace(2, n ,n-1)\n",
    "p = 2\n",
    "c = 0\n",
    "newlist = []\n",
    "primenumbers = [2]\n",
    "\n",
    "for j in liste:\n",
    "    for i in liste:\n",
    "        if i%p != 0:\n",
    "            newlist.append(i)\n",
    "    p = newlist[0]\n",
    "    primenumbers.append(p)\n",
    "    liste = newlist\n",
    "    newlist = []\n",
    "    c += 1\n",
    "    if p**2 > n:\n",
    "        liste.pop(0)\n",
    "        primenumbers += liste\n",
    "        break\n",
    "    \n",
    "print(len(primenumbers), c)\n",
    "\n",
    "data = np.zeros((h, w), dtype=np.uint8)\n",
    "\n",
    "for k in primenumbers:\n",
    "    x = int(k%w)\n",
    "    y = int(k//h)\n",
    "    data[y, x] = 255 # white dots, (y, x)\n",
    "    \n",
    "\n",
    "\n",
    "img = Image.fromarray(data)\n",
    "img.show()"
   ]
  },
  {
   "cell_type": "code",
   "execution_count": null,
   "metadata": {},
   "outputs": [],
   "source": []
  }
 ],
 "metadata": {
  "kernelspec": {
   "display_name": "Python 3",
   "language": "python",
   "name": "python3"
  },
  "language_info": {
   "codemirror_mode": {
    "name": "ipython",
    "version": 3
   },
   "file_extension": ".py",
   "mimetype": "text/x-python",
   "name": "python",
   "nbconvert_exporter": "python",
   "pygments_lexer": "ipython3",
   "version": "3.7.5"
  }
 },
 "nbformat": 4,
 "nbformat_minor": 2
}
