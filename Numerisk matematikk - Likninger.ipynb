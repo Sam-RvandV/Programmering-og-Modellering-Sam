{
 "cells": [
  {
   "cell_type": "markdown",
   "metadata": {},
   "source": [
    "# Numersik matematikk: Likninger\n",
    "\n"
   ]
  },
  {
   "cell_type": "markdown",
   "metadata": {},
   "source": [
    "## Halveringsmetoden\n",
    "\n",
    "Halveringsmetoden er en metode for å løse likninger nummerisk. Metoden tar i bruk at likninger kan løses grafisk ved å finne nullpunkter. Har en likning som vi setter slik at vi har et utrykk lik null og ser for oss at det er en funksjon. Deretter definerer vi et intervall. Halveringsmetoden går ut på at vi hele tiden halverer intervallet og sjekker om randpunktene har forskjellig fortegn. Ved å halvere og sjekke om vi har forskjellig fortegn nærmer vi oss nullpunktet logaritmisk.  Vi har også en verdi for hvor nøyaktig vi vil ha svaret ettersom vi med halvering skjeldent treffer det akkuratte nullpunktet. \n",
    "\n",
    "Svakheter ved metoden er at vi ikke kan finne løsningen dersom vi bare har et nullpunkt som tangerer x-aksen innenfor intervallet ettersom det da er likt fortegn på begge sider av nullpunktet.\n",
    " \n",
    "Under er det et program som bruker halveringsmetoden. Vi kan lage programmet mer robust og få det til å lete etter flere løsninger."
   ]
  },
  {
   "cell_type": "code",
   "execution_count": 1,
   "metadata": {},
   "outputs": [
    {
     "ename": "TypeError",
     "evalue": "'>' not supported between instances of 'float' and 'function'",
     "output_type": "error",
     "traceback": [
      "\u001b[0;31m---------------------------------------------------------------------------\u001b[0m",
      "\u001b[0;31mTypeError\u001b[0m                                 Traceback (most recent call last)",
      "\u001b[0;32m<ipython-input-1-aea57875be8a>\u001b[0m in \u001b[0;36m<module>\u001b[0;34m\u001b[0m\n\u001b[1;32m     25\u001b[0m     \u001b[0;32mreturn\u001b[0m \u001b[0mm\u001b[0m\u001b[0;34m,\u001b[0m \u001b[0mcount\u001b[0m\u001b[0;34m\u001b[0m\u001b[0;34m\u001b[0m\u001b[0m\n\u001b[1;32m     26\u001b[0m \u001b[0;34m\u001b[0m\u001b[0m\n\u001b[0;32m---> 27\u001b[0;31m \u001b[0mnullpunkt\u001b[0m\u001b[0;34m,\u001b[0m \u001b[0mantall\u001b[0m \u001b[0;34m=\u001b[0m \u001b[0mhalveringsmetoden\u001b[0m\u001b[0;34m(\u001b[0m\u001b[0;36m0\u001b[0m\u001b[0;34m,\u001b[0m\u001b[0;36m10\u001b[0m\u001b[0;34m,\u001b[0m\u001b[0mfunc\u001b[0m\u001b[0;34m)\u001b[0m\u001b[0;34m\u001b[0m\u001b[0;34m\u001b[0m\u001b[0m\n\u001b[0m\u001b[1;32m     28\u001b[0m \u001b[0;34m\u001b[0m\u001b[0m\n\u001b[1;32m     29\u001b[0m \u001b[0mprint\u001b[0m\u001b[0;34m(\u001b[0m\u001b[0;34m'Nullpunktet var:'\u001b[0m\u001b[0;34m,\u001b[0m \u001b[0mnullpunkt\u001b[0m\u001b[0;34m,\u001b[0m \u001b[0;34m'og løkka kjørte'\u001b[0m\u001b[0;34m,\u001b[0m \u001b[0mantall\u001b[0m\u001b[0;34m,\u001b[0m \u001b[0;34m'ganger.'\u001b[0m\u001b[0;34m)\u001b[0m\u001b[0;34m\u001b[0m\u001b[0;34m\u001b[0m\u001b[0m\n",
      "\u001b[0;32m<ipython-input-1-aea57875be8a>\u001b[0m in \u001b[0;36mhalveringsmetoden\u001b[0;34m(a, b, tol)\u001b[0m\n\u001b[1;32m     15\u001b[0m     \u001b[0mcount\u001b[0m \u001b[0;34m=\u001b[0m \u001b[0;36m0\u001b[0m\u001b[0;34m\u001b[0m\u001b[0;34m\u001b[0m\u001b[0m\n\u001b[1;32m     16\u001b[0m \u001b[0;34m\u001b[0m\u001b[0m\n\u001b[0;32m---> 17\u001b[0;31m     \u001b[0;32mwhile\u001b[0m \u001b[0mabs\u001b[0m\u001b[0;34m(\u001b[0m\u001b[0mfunc\u001b[0m\u001b[0;34m(\u001b[0m\u001b[0mm\u001b[0m\u001b[0;34m)\u001b[0m\u001b[0;34m)\u001b[0m \u001b[0;34m>\u001b[0m \u001b[0mtol\u001b[0m\u001b[0;34m:\u001b[0m\u001b[0;34m\u001b[0m\u001b[0;34m\u001b[0m\u001b[0m\n\u001b[0m\u001b[1;32m     18\u001b[0m         \u001b[0;32mif\u001b[0m \u001b[0mfunc\u001b[0m\u001b[0;34m(\u001b[0m\u001b[0ma\u001b[0m\u001b[0;34m)\u001b[0m\u001b[0;34m*\u001b[0m\u001b[0mfunc\u001b[0m\u001b[0;34m(\u001b[0m\u001b[0mm\u001b[0m\u001b[0;34m)\u001b[0m \u001b[0;34m<\u001b[0m \u001b[0;36m0\u001b[0m\u001b[0;34m:\u001b[0m\u001b[0;34m\u001b[0m\u001b[0;34m\u001b[0m\u001b[0m\n\u001b[1;32m     19\u001b[0m             \u001b[0mb\u001b[0m \u001b[0;34m=\u001b[0m \u001b[0mm\u001b[0m\u001b[0;34m\u001b[0m\u001b[0;34m\u001b[0m\u001b[0m\n",
      "\u001b[0;31mTypeError\u001b[0m: '>' not supported between instances of 'float' and 'function'"
     ]
    }
   ],
   "source": [
    "def func(x):\n",
    "    return x**6 - 3*x**5 - 2*x**2 - 8\n",
    "\n",
    "def halveringsmetoden(a,b,func,tol=1E-10):\n",
    "    \"\"\"\n",
    "    Parameters\n",
    "    ----------\n",
    "    a : start intervall\n",
    "    b : slutt intervall\n",
    "    tol : nøyaktighet\n",
    "\n",
    "    \"\"\"\n",
    "    m = (a+b)/2\n",
    "    \n",
    "    count = 0\n",
    "    \n",
    "    while abs(func(m)) > tol:\n",
    "        if func(a)*func(m) < 0:\n",
    "            b = m\n",
    "        elif func(b)*func(m) < 0:\n",
    "            a = m\n",
    "        m = (a+b)/2\n",
    "        count += 1\n",
    "        \n",
    "    return m, count\n",
    "             \n",
    "nullpunkt, antall = halveringsmetoden(0,10,func)\n",
    "\n",
    "print('Nullpunktet var:', nullpunkt, 'og løkka kjørte', antall, 'ganger.')"
   ]
  },
  {
   "cell_type": "markdown",
   "metadata": {},
   "source": [
    "## Newtons metode\n",
    "\n",
    "Newtons metode er en annen metode for å løse likninger nummerisk. Metoden tar i bruk den deriverte og tangenter til å finne nullpunktet til grafen. (som en utleder ved å sette likningen slik at vi har et utrykk lik 0) Vi velger en start verdi for x også ved å finne nullpunktet til tangenten og ta det som ny x verdi og hele tide sjekke om nullpunktet til tangenten tilsvarer nullpunktet til funksjonen. Her er det også vanskelig og havne nøyaktig på så vi har en verdi for hvor nøyaktig det må være.\n",
    "\n",
    "$y = f'(x_1)(x-x_1)+f(x_1) \\iff x = x_1 - \\frac {f(x_1)}{f'(x_1)}$ \n",
    "\n",
    "### Newtons iterasjonsformel \n",
    "\n",
    "$x_{n+1} = x_n - \\frac {f(x_n)}{f'(x_n)}$\n",
    "\n",
    "Under er et program som bruker Newtons metode til å finne en av løsningene til en likning. Dette programmet kan også utvides slik at det er mer robust."
   ]
  },
  {
   "cell_type": "code",
   "execution_count": 10,
   "metadata": {},
   "outputs": [
    {
     "name": "stdout",
     "output_type": "stream",
     "text": [
      "Nullpunktet var: 3.095567363677426 og løkka kjørte 13 ganger.\n"
     ]
    }
   ],
   "source": [
    "def f(x):\n",
    "    return x**6 - 3*x**5 - 2*x**2 - 8\n",
    "\n",
    "def fder(x, dx=1E-8):\n",
    "    return (f(x+dx)-f(x))/dx\n",
    "\n",
    "def newton(x, tol=1E-10):\n",
    "    c = 0\n",
    "    while abs(f(x) > tol):\n",
    "        x = x - f(x) / fder(x)\n",
    "        c += 1\n",
    "    return x, c\n",
    "    \n",
    "nullpunkt, antall = newton(10)\n",
    "\n",
    "print('Nullpunktet var:', nullpunkt, 'og løkka kjørte', antall, 'ganger.')"
   ]
  },
  {
   "cell_type": "markdown",
   "metadata": {},
   "source": [
    "## Sammenlikning av nummeriske metoder for likningsløsning \n",
    "\n",
    "Vi ser utifra resultatene til de to programmene ovenfor at beggemetodene funker og at de kan finne løsninger på likninger som ikke er løselige med analytisk mattematikk. Vi ser også at newtons er mer effektiv."
   ]
  },
  {
   "cell_type": "markdown",
   "metadata": {},
   "source": [
    "## Skyte spurv med Kanoner\n",
    "\n",
    "sammenhengen mellom vinkelen i radianer, $v$, og vinkelen i grader, n, er $v = \\frac {n}{180^{\\circ}} \\pi$\n",
    "\n",
    "#### Bruker utgangsfarten, vinkelen og g for å finne tiden ved hjelp av newtonsmetode\n",
    "\n",
    "$y(t) = v_0  sin(\\theta)  t - \\frac{1}{2}gt$\n",
    "\n",
    "#### Bruker for å finne tiden, utgangsfarten og vinkelen for å finne lengden.\n",
    "\n",
    "$x(t) = v_0 cos(\\theta) t$"
   ]
  },
  {
   "cell_type": "code",
   "execution_count": 8,
   "metadata": {},
   "outputs": [
    {
     "name": "stdout",
     "output_type": "stream",
     "text": [
      "utangsfart: 4.65 m/s vinkel: 45° tid: 0.6703458911274074 avstand: 2.2041284829087897\n",
      "utangsfart: 4.78 m/s vinkel: 45° tid: 0.6890867386463263 avstand: 2.329092789353739\n",
      "utangsfart: 4.72 m/s vinkel: 45° tid: 0.6804371164180304 avstand: 2.2709888201777892\n"
     ]
    }
   ],
   "source": [
    "from math import *\n",
    "\n",
    "def y(t, v0, theta):\n",
    "    g = 9.81\n",
    "    return v0*sin(theta)*t - 0.5 *g*t**2\n",
    "\n",
    "def yder(t, v0, theta):\n",
    "    g = 9.81\n",
    "    return v0*sin(theta) - g*t\n",
    "\n",
    "def x(t, v0, theta):\n",
    "    return v0*cos(theta)*t\n",
    "\n",
    "def newtons(f,fder,x,v0,theta,tol=1E-5,N=100):\n",
    "    c = 0\n",
    "    while abs(f(x,v0,theta)) > tol and c <= 100:\n",
    "        x = x - f(x,v0,theta)/fder(x,v0,theta)\n",
    "        c += 1\n",
    "    return x\n",
    "\n",
    "tid = newtons(y,yder, 10, 18, pi/10)\n",
    "avstand = x(tid, 18, pi/10)\n",
    "\n",
    "#print('tid:', tid, 'avstand:', avstand) # test av program\n",
    "\n",
    "\"\"\"\n",
    "vinkler = [pi/6, pi/5, pi/4, pi/3] \n",
    "\n",
    "counter = 0\n",
    "\n",
    "for i in vinkler:\n",
    "    tid2 = newtons(y,yder, 10, 18, i)\n",
    "    avstand2 = x(tid2, 18, i)\n",
    "    counter += 1\n",
    "    print(counter, tid2, avstand2) # test av program\n",
    "\"\"\"\n",
    "\n",
    "modellt = newtons(y,yder, 10, 4.65, 45/180*pi)  \n",
    "modella = x(modellt, 4.65, 45/180*pi)    \n",
    "\n",
    "print('utangsfart: 4.65 m/s vinkel: 45° tid:',modellt,'avstand:', modella)\n",
    "\n",
    "modellt = newtons(y,yder, 10, 4.78, 45/180*pi)  \n",
    "modella = x(modellt, 4.78, 45/180*pi)    \n",
    "\n",
    "print('utangsfart: 4.78 m/s vinkel: 45° tid:',modellt,'avstand:', modella)\n",
    "           \n",
    "modellt = newtons(y,yder, 10, 4.72, 45/180*pi)  \n",
    "modella = x(modellt, 4.72, 45/180*pi)    \n",
    "\n",
    "print('utangsfart: 4.72 m/s vinkel: 45° tid:',modellt,'avstand:', modella)"
   ]
  },
  {
   "cell_type": "markdown",
   "metadata": {},
   "source": [
    "\n",
    "### Resultater fra forsøk \n",
    "\n",
    "| vinkel (grader) | utgangsfart (m/s) | lengde (m) |\n",
    "| ------------- | ------------- | ------------- |\n",
    "| 45 | 4.65 | 2.55 |\n",
    "| 45 | 4.78 | 2.60 |\n",
    "| 45 | 4.72 | 2.60 |\n",
    "\n",
    "Vi kan se at jeg fatisk fikk mindre avstand fra modellen. Dette kan skyldes at vi målte avstanden på bakken mens kulen ble skudd fra vinkelarmen til aperatet med som da var noe over bakken.\n",
    "\n",
    "\n",
    "\n"
   ]
  },
  {
   "cell_type": "code",
   "execution_count": null,
   "metadata": {},
   "outputs": [],
   "source": []
  }
 ],
 "metadata": {
  "kernelspec": {
   "display_name": "Python 3",
   "language": "python",
   "name": "python3"
  },
  "language_info": {
   "codemirror_mode": {
    "name": "ipython",
    "version": 3
   },
   "file_extension": ".py",
   "mimetype": "text/x-python",
   "name": "python",
   "nbconvert_exporter": "python",
   "pygments_lexer": "ipython3",
   "version": "3.7.5"
  }
 },
 "nbformat": 4,
 "nbformat_minor": 2
}
