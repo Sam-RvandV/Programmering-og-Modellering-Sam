{
 "cells": [
  {
   "cell_type": "markdown",
   "metadata": {},
   "source": [
    "# Differensiallikninger - Populajsonsdynamikk\n",
    "\n",
    "#### a) \n",
    "\n",
    "Populasjonsveksten i en Apepopulasjon kan beskrives slik:\n",
    "\n",
    "$P'(t) = k \\cdot P(t)$\n",
    "\n",
    "Dette er fordi vi har P' av tid som er stigningen i populasjonen. Det er lik en konstant for reproduksjon ganger antall aper i populasjonen.\n",
    "\n",
    "#### b) \n",
    "\n",
    "k er en vekstfaktor som er avhengig av biologiske faktorer som reproduksjon og liknende. \n",
    "\n",
    "P(t) er antall aper i populasjonen etter t måneder.\n",
    "\n",
    "P'(t) er stigningen til populasjonen.\n",
    "\n",
    "#### c) \n",
    "\n",
    "Newtons kvotient:\n",
    "\n",
    "$f'(x) = \\frac{f(x+dx)-f(x)}{dx}$\n",
    "\n",
    "Vi vil ha et utrykk for den neste tilstanden i systemet. \n",
    "\n",
    "da må vi sette $f(x+dx)$ alene.\n",
    "\n",
    "Da kommer vi gjennom algebra fram til Eulers metode\n",
    "\n",
    "$f(x+dx) = f(x) + f'(x) \\cdot dx$\n",
    "\n",
    "Denne metoden brukes for å finne ut neste tilstand i et system ut i fra endringen i systemet.\n",
    "\n",
    "#### d) \n",
    "\n",
    "Eulers metode\n",
    "\n",
    "$P(t_{n+1}) = P(t_n) + P'(t_n) \\cdot dt$\n",
    "\n",
    "Denne formuleringen av utrykket indikerer at neste tilstand i systemet er den forrige tilstandet addert med produktet av stigningen og forskjell i t. \n"
   ]
  },
  {
   "cell_type": "code",
   "execution_count": 3,
   "metadata": {},
   "outputs": [
    {
     "data": {
      "image/png": "[encoded data removed]",
      "text/plain": [
       "<Figure size 432x288 with 1 Axes>"
      ]
     },
     "metadata": {
      "needs_background": "light"
     },
     "output_type": "display_data"
    }
   ],
   "source": [
    "from pylab import *\n",
    "\n",
    "# variabler og konstanter\n",
    "k = 0.5\n",
    "P0 = 100\n",
    "\n",
    "# tidsparameter \n",
    "dt = 0.1\n",
    "t_start = 0\n",
    "t_slutt = 3.3\n",
    "N = int((t_slutt-t_start)/dt)\n",
    "\n",
    "#Arrayer\n",
    "t = zeros(N+1)\n",
    "P = zeros(N+1)\n",
    "\n",
    "# initialisering\n",
    "t[0] = t_start\n",
    "P[0] = P0\n",
    "\n",
    "# eulers metode\n",
    "for i in range(N):\n",
    "    Pder = k * P[i]\n",
    "    P[i+1] = P[i] + Pder*dt\n",
    "    t[i+1] = t[i] + dt\n",
    "    \n",
    "plot(t,P)\n",
    "xlabel('tid (månder)')\n",
    "ylabel('antall aper')\n",
    "show()\n"
   ]
  },
  {
   "cell_type": "code",
   "execution_count": null,
   "metadata": {},
   "outputs": [],
   "source": []
  }
 ],
 "metadata": {
  "kernelspec": {
   "display_name": "Python 3",
   "language": "python",
   "name": "python3"
  },
  "language_info": {
   "codemirror_mode": {
    "name": "ipython",
    "version": 3
   },
   "file_extension": ".py",
   "mimetype": "text/x-python",
   "name": "python",
   "nbconvert_exporter": "python",
   "pygments_lexer": "ipython3",
   "version": "3.7.5"
  }
 },
 "nbformat": 4,
 "nbformat_minor": 2
}
