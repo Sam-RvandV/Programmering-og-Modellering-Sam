{
 "cells": [
  {
   "cell_type": "markdown",
   "metadata": {},
   "source": [
    "# Innlevering Objektorientering oppgave 1"
   ]
  },
  {
   "cell_type": "markdown",
   "metadata": {},
   "source": [
    "### a)\n"
   ]
  },
  {
   "cell_type": "code",
   "execution_count": 6,
   "metadata": {},
   "outputs": [],
   "source": [
    "from pylab import *\n",
    "\n",
    "class Grunnstoff: # lager en klasse kalt \"grunnstoffer\"\n",
    "    def __init__(self,a_num,sym,masse,el_neg): \n",
    "        # argumenter som trengs for å danne et objekt av klassen grunnstoffer\n",
    "        # gir argumentene variabler som hører til self/objektet\n",
    "        self.a_num = a_num \n",
    "        self.sym = sym\n",
    "        self.masse = masse\n",
    "        self.el_neg = el_neg\n"
   ]
  },
  {
   "cell_type": "markdown",
   "metadata": {},
   "source": [
    "Med dette som utgangspunkt kan en lage mange forskjellige spennende funksjoner eller metoder som kan gjøre mange støkiometriske beregninger.\n",
    "\n",
    "### b)"
   ]
  },
  {
   "cell_type": "code",
   "execution_count": 7,
   "metadata": {},
   "outputs": [],
   "source": [
    "# oppretter objekter/instanser av klassen grunnstoffer\n",
    "H = Grunnstoff(1,'H',1.008,2.1) \n",
    "Li = Grunnstoff(3,'Li',6.941,1.0)\n",
    "C = Grunnstoff(6,'C',12.01,2.5)\n",
    "O = Grunnstoff(8,'O',16.00,3.5)\n",
    "F = Grunnstoff(9,'F',19.00,4.0)\n",
    "Cl = Grunnstoff(17,'Cl',35.45,3.2)\n",
    "K = Grunnstoff(19,'K',39.10,0.8)\n",
    "Br = Grunnstoff(35,'Br',79.90,3.0)"
   ]
  },
  {
   "cell_type": "markdown",
   "metadata": {},
   "source": [
    "### c)"
   ]
  },
  {
   "cell_type": "code",
   "execution_count": 8,
   "metadata": {},
   "outputs": [],
   "source": [
    "def bindingstype(gr1,gr2): # funksjon som tar to argumenter \n",
    "        b = abs(gr1.el_neg - gr2.el_neg) # finner differansen i elektronnegativitet\n",
    "        # henter ut elektronnegativiteten av hvert stof ved å skrive gr1.el_neg/x.el_neg\n",
    "        # if-test, tester hvilken bindingstype det er og returnerer bindingstypen som en streng\n",
    "        if b >= 2.0:\n",
    "            return \"Ionisk\"\n",
    "        elif b < 2.0 and b > 1.6:\n",
    "            return \"Mellom ionisk og polar kovalent\"\n",
    "        elif b <= 1.6 and b >= 0.5: \n",
    "            return \"Polar kovalent\"\n",
    "        elif b < 0.5 and b > 0.3: \n",
    "            return \"Mellom polar kovalent og upolar kovalent\"\n",
    "        elif b <= 3.0:\n",
    "            return \"Upolar kovalent\""
   ]
  },
  {
   "cell_type": "markdown",
   "metadata": {},
   "source": [
    "Vi kunne gjort denne funksjonen mer robust ved å for eksempel legge til en if statement som fant ut av hvordan molekylet ville se ut og at den returnerte formelen for den.\n",
    "\n",
    "### d)\n"
   ]
  },
  {
   "cell_type": "code",
   "execution_count": 9,
   "metadata": {},
   "outputs": [
    {
     "name": "stdout",
     "output_type": "stream",
     "text": [
      "LiF bindingstype: Ionisk\n",
      "BrCl bindingstype: Upolar kovalent\n",
      "K2O bindingstype: Ionisk\n",
      "CH4 bindingstype: Mellom polar kovalent og upolar kovalent\n"
     ]
    }
   ],
   "source": [
    "# bruker funksjonen og printer bindingstypene\n",
    "print(\"LiF bindingstype:\", bindingstype(Li,F))\n",
    "print(\"BrCl bindingstype:\", bindingstype(Br,Cl))\n",
    "print(\"K2O bindingstype:\", bindingstype(K,O))\n",
    "print(\"CH4 bindingstype:\", bindingstype(C,H))"
   ]
  },
  {
   "cell_type": "markdown",
   "metadata": {},
   "source": [
    "Vi ser at programmet vårt fungerte som det skal."
   ]
  }
 ],
 "metadata": {
  "kernelspec": {
   "display_name": "Python 3",
   "language": "python",
   "name": "python3"
  },
  "language_info": {
   "codemirror_mode": {
    "name": "ipython",
    "version": 3
   },
   "file_extension": ".py",
   "mimetype": "text/x-python",
   "name": "python",
   "nbconvert_exporter": "python",
   "pygments_lexer": "ipython3",
   "version": "3.7.5"
  }
 },
 "nbformat": 4,
 "nbformat_minor": 2
}
