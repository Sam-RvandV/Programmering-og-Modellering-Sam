{
 "cells": [
  {
   "cell_type": "markdown",
   "metadata": {},
   "source": [
    "# Innlevering Objektorientering oppgave 1"
   ]
  },
  {
   "cell_type": "code",
   "execution_count": null,
   "metadata": {},
   "outputs": [],
   "source": [
    "from pylab import *\n",
    "\n",
    "with open(\"planeter_data.dat\",\"r\") as infile:\n",
    "    Gr = int(infile.readline(1))\n",
    "    GR = line.split()"
   ]
  },
  {
   "cell_type": "code",
   "execution_count": 2,
   "metadata": {},
   "outputs": [
    {
     "ename": "NameError",
     "evalue": "name 'Grunnstoffer' is not defined",
     "output_type": "error",
     "traceback": [
      "\u001b[0;31m---------------------------------------------------------------------------\u001b[0m",
      "\u001b[0;31mNameError\u001b[0m                                 Traceback (most recent call last)",
      "\u001b[0;32m<ipython-input-2-e0d3880277f0>\u001b[0m in \u001b[0;36m<module>\u001b[0;34m\u001b[0m\n\u001b[1;32m      8\u001b[0m         \u001b[0mself\u001b[0m\u001b[0;34m.\u001b[0m\u001b[0mel_neg\u001b[0m \u001b[0;34m=\u001b[0m \u001b[0mel_neg\u001b[0m\u001b[0;34m\u001b[0m\u001b[0;34m\u001b[0m\u001b[0m\n\u001b[1;32m      9\u001b[0m \u001b[0;34m\u001b[0m\u001b[0m\n\u001b[0;32m---> 10\u001b[0;31m \u001b[0mhydrogen\u001b[0m \u001b[0;34m=\u001b[0m \u001b[0mGrunnstoffer\u001b[0m\u001b[0;34m(\u001b[0m\u001b[0;34m)\u001b[0m\u001b[0;34m\u001b[0m\u001b[0;34m\u001b[0m\u001b[0m\n\u001b[0m\u001b[1;32m     11\u001b[0m \u001b[0mlitium\u001b[0m \u001b[0;34m=\u001b[0m \u001b[0mGrunnstoffer\u001b[0m\u001b[0;34m(\u001b[0m\u001b[0;34m)\u001b[0m\u001b[0;34m\u001b[0m\u001b[0;34m\u001b[0m\u001b[0m\n\u001b[1;32m     12\u001b[0m \u001b[0mkarbon\u001b[0m \u001b[0;34m=\u001b[0m \u001b[0mGrunnstoffer\u001b[0m\u001b[0;34m(\u001b[0m\u001b[0;34m)\u001b[0m\u001b[0;34m\u001b[0m\u001b[0;34m\u001b[0m\u001b[0m\n",
      "\u001b[0;31mNameError\u001b[0m: name 'Grunnstoffer' is not defined"
     ]
    }
   ],
   "source": [
    "from pylab import *\n",
    "\n",
    "class Grunnstoff:\n",
    "    def __init__(self,a_num,sym,masse,el_neg):\n",
    "        self.a_num = a_num\n",
    "        self.sym = sym\n",
    "        self.masse = masse\n",
    "        self.el_neg = el_neg\n",
    "        \n",
    "hydrogen = Grunnstoff()\n",
    "litium = Grunnstoff()\n",
    "karbon = Grunnstoff()\n",
    "oksygen = Grunnstoff()\n",
    "fluor = Grunnstoff()\n",
    "klor = Grunnstoff()\n",
    "kalium = Grunnstoff()\n",
    "brom = Grunnstoff()"
   ]
  },
  {
   "cell_type": "code",
   "execution_count": null,
   "metadata": {},
   "outputs": [],
   "source": []
  }
 ],
 "metadata": {
  "kernelspec": {
   "display_name": "Python 3",
   "language": "python",
   "name": "python3"
  },
  "language_info": {
   "codemirror_mode": {
    "name": "ipython",
    "version": 3
   },
   "file_extension": ".py",
   "mimetype": "text/x-python",
   "name": "python",
   "nbconvert_exporter": "python",
   "pygments_lexer": "ipython3",
   "version": "3.7.5"
  }
 },
 "nbformat": 4,
 "nbformat_minor": 2
}
